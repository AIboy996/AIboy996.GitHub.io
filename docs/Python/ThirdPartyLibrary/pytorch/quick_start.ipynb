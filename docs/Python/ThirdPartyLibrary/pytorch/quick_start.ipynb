{
 "cells": [
  {
   "cell_type": "markdown",
   "metadata": {},
   "source": [
    "---\n",
    "tags:\n",
    "- pytorch\n",
    "- DL\n",
    "\n",
    "include:\n",
    "- math\n",
    "---"
   ]
  },
  {
   "cell_type": "markdown",
   "metadata": {},
   "source": [
    "# 快速入门\n",
    "\n",
    "> [pytorch's tutorials for beginner](https://pytorch.org/tutorials/beginner/basics/quickstart_tutorial.html)\n",
    "\n",
    "本文会涉及到一些机器学习的术语，例如`数据集`、`标签`、`模型`、`损失函数`等等。读者如果不熟悉可以问一问AI，我就不再解释了。"
   ]
  },
  {
   "cell_type": "markdown",
   "metadata": {},
   "source": [
    "## 前置准备"
   ]
  },
  {
   "cell_type": "markdown",
   "metadata": {},
   "source": [
    "我们首先需要学会正确安装pytorch：\n",
    "![](../assets/2025-04-15-17-57-23.png)"
   ]
  },
  {
   "cell_type": "markdown",
   "metadata": {},
   "source": [
    "- 如果你的操作系统是MacOS，那么比较简单\n",
    "    - 直接`pip3 install torch`就可以了\n",
    "    - pip会自动下载对应的版本，通常可以直接获得`mps`加速（Apple Metal）\n",
    "- 如果你的操作系统是Windows，那么有两种情况\n",
    "    - `pip3 install torch`会安装CPU支持的torch，没有显卡加速\n",
    "    - `pip3 install torch --index-url https://download.pytorch.org/whl/cu118`会安装CUDA支持的torch，可以使用Nvidia CUDA加速计算\n",
    "- 如果你的系统是Linux还可以安装AMD显卡驱动的ROCm版torch"
   ]
  },
  {
   "cell_type": "markdown",
   "metadata": {},
   "source": [
    "### 导入torch"
   ]
  },
  {
   "cell_type": "code",
   "execution_count": 1,
   "metadata": {},
   "outputs": [],
   "source": [
    "import torch\n",
    "from torch import nn\n",
    "from torch.utils.data import DataLoader\n",
    "from torchvision import datasets\n",
    "from torchvision.transforms import ToTensor"
   ]
  },
  {
   "cell_type": "markdown",
   "metadata": {},
   "source": [
    "如果可以正常导入不报错，说明torch成功安装了。"
   ]
  },
  {
   "cell_type": "markdown",
   "metadata": {},
   "source": [
    "这里我再额外引入两个库用来画图："
   ]
  },
  {
   "cell_type": "code",
   "execution_count": 2,
   "metadata": {},
   "outputs": [],
   "source": [
    "import matplotlib.pyplot as plt\n",
    "import numpy as np\n",
    "\n",
    "# 没安装的话直接运行：\n",
    "# pip3 install matplotlib\n",
    "# 就可以了"
   ]
  },
  {
   "cell_type": "code",
   "execution_count": 3,
   "metadata": {},
   "outputs": [],
   "source": [
    "# 为了可以稳定复现训练结果，我们在这里设置一些种子\n",
    "import random\n",
    "\n",
    "random.seed(0)\n",
    "np.random.seed(0)\n",
    "torch.manual_seed(0)\n",
    "torch.mps.manual_seed(0)\n",
    "torch.use_deterministic_algorithms(True)"
   ]
  },
  {
   "cell_type": "markdown",
   "metadata": {},
   "source": [
    "### 使用mps加速\n",
    "\n",
    "在MacOS平台，可以使用mps加速"
   ]
  },
  {
   "cell_type": "code",
   "execution_count": 4,
   "metadata": {},
   "outputs": [
    {
     "data": {
      "text/plain": [
       "True"
      ]
     },
     "execution_count": 4,
     "metadata": {},
     "output_type": "execute_result"
    }
   ],
   "source": [
    "# 检查mps加速是否可用\n",
    "torch.backends.mps.is_available()"
   ]
  },
  {
   "cell_type": "markdown",
   "metadata": {},
   "source": [
    "## 任务\n",
    "\n",
    "[FashionMNIST](https://www.kaggle.com/datasets/zalando-research/fashionmnist)是一个很简单的图像数据集。它由70000万张分辨率为28*28的图片组成。每张图片中都有一件衣服，可能属于以下十个类别：\n",
    "\n",
    "0. T-shirt/top\n",
    "1. Trouser\n",
    "2. Pullover\n",
    "3. Dress\n",
    "4. Coat\n",
    "5. Sandal\n",
    "6. Shirt\n",
    "7. Sneaker\n",
    "8. Bag\n",
    "9. Ankle boot\n",
    "\n",
    "我们的任务是在这个数据集上构造一个**分类模型**$f_\\theta(x)$，它输入一张图像$x$，输出图像的标签$y$（图中的衣服是哪一类）。"
   ]
  },
  {
   "cell_type": "markdown",
   "metadata": {},
   "source": [
    "### 数据集"
   ]
  },
  {
   "cell_type": "markdown",
   "metadata": {},
   "source": [
    "torchvision提供了一些基本的数据集，我们可以很轻松引入。自然也包括了FashionMNIST"
   ]
  },
  {
   "cell_type": "code",
   "execution_count": 5,
   "metadata": {},
   "outputs": [],
   "source": [
    "# Download training data from open datasets.\n",
    "training_data = datasets.FashionMNIST(\n",
    "    root=\"data\",\n",
    "    train=True,\n",
    "    download=True,\n",
    "    transform=ToTensor(),\n",
    ")\n",
    "\n",
    "# Download test data from open datasets.\n",
    "test_data = datasets.FashionMNIST(\n",
    "    root=\"data\",\n",
    "    train=False,\n",
    "    download=True,\n",
    "    transform=ToTensor(),\n",
    ")"
   ]
  },
  {
   "cell_type": "markdown",
   "metadata": {},
   "source": [
    "第一次运行会从网上下载FashionMNIST数据集，下载的文件如下："
   ]
  },
  {
   "cell_type": "code",
   "execution_count": 6,
   "metadata": {},
   "outputs": [
    {
     "name": "stdout",
     "output_type": "stream",
     "text": [
      "\u001b[01;34mdata\u001b[0m\n",
      "└── \u001b[01;34mFashionMNIST\u001b[0m\n",
      "    └── \u001b[01;34mraw\u001b[0m\n",
      "        ├── \u001b[00mt10k-images-idx3-ubyte\u001b[0m\n",
      "        ├── \u001b[01;31mt10k-images-idx3-ubyte.gz\u001b[0m\n",
      "        ├── \u001b[00mt10k-labels-idx1-ubyte\u001b[0m\n",
      "        ├── \u001b[01;31mt10k-labels-idx1-ubyte.gz\u001b[0m\n",
      "        ├── \u001b[00mtrain-images-idx3-ubyte\u001b[0m\n",
      "        ├── \u001b[01;31mtrain-images-idx3-ubyte.gz\u001b[0m\n",
      "        ├── \u001b[00mtrain-labels-idx1-ubyte\u001b[0m\n",
      "        └── \u001b[01;31mtrain-labels-idx1-ubyte.gz\u001b[0m\n",
      "\n",
      "3 directories, 8 files\n"
     ]
    }
   ],
   "source": [
    "!tree data"
   ]
  },
  {
   "cell_type": "markdown",
   "metadata": {},
   "source": [
    "### 数据集划分\n",
    "\n",
    "训练集和测试集FashionMNIST已经为我们划分好了（按照6:1的比例）。\n",
    "\n",
    "我们使用DataLoader来批量读取数据，这是为了后续的随机梯度下降优化算法做准备。"
   ]
  },
  {
   "cell_type": "code",
   "execution_count": 7,
   "metadata": {},
   "outputs": [
    {
     "name": "stdout",
     "output_type": "stream",
     "text": [
      "Shape of X [N, C, H, W]: torch.Size([128, 1, 28, 28])\n",
      "Shape of y: torch.Size([128]) torch.int64\n"
     ]
    }
   ],
   "source": [
    "batch_size = 128\n",
    "\n",
    "# Create data loaders.\n",
    "train_dataloader = DataLoader(training_data, batch_size=batch_size)\n",
    "test_dataloader = DataLoader(test_data, batch_size=batch_size)\n",
    "\n",
    "for X, y in test_dataloader:\n",
    "    print(f\"Shape of X [N, C, H, W]: {X.shape}\")\n",
    "    print(f\"Shape of y: {y.shape} {y.dtype}\")\n",
    "    break"
   ]
  },
  {
   "cell_type": "markdown",
   "metadata": {},
   "source": [
    "`batch_size = 128`意味着，我们每步会拿出128张图片进行随机梯度下降。"
   ]
  },
  {
   "cell_type": "markdown",
   "metadata": {},
   "source": [
    "### 数据展示"
   ]
  },
  {
   "cell_type": "code",
   "execution_count": 8,
   "metadata": {
    "vscode": {
     "languageId": "javascript"
    }
   },
   "outputs": [],
   "source": [
    "classes = [\n",
    "    \"T-shirt/top\",\n",
    "    \"Trouser\",\n",
    "    \"Pullover\",\n",
    "    \"Dress\",\n",
    "    \"Coat\",\n",
    "    \"Sandal\",\n",
    "    \"Shirt\",\n",
    "    \"Sneaker\",\n",
    "    \"Bag\",\n",
    "    \"Ankle boot\",\n",
    "]"
   ]
  },
  {
   "cell_type": "code",
   "execution_count": 9,
   "metadata": {
    "vscode": {
     "languageId": "javascript"
    }
   },
   "outputs": [
    {
     "data": {
      "image/png": "[encoded data removed]",
      "text/plain": [
       "<Figure size 1000x1500 with 3 Axes>"
      ]
     },
     "metadata": {},
     "output_type": "display_data"
    }
   ],
   "source": [
    "fig, ax = plt.subplots(1, 3, figsize = (10, 15))\n",
    "for i in range(3):\n",
    "    ax[i].imshow(X[i, 0,:].to('cpu').numpy(), cmap = 'gray')\n",
    "    ax[i].set_title(f\"{y[i].item()} ({classes[y[i].item()]})\")\n",
    "    ax[i].axis('off')"
   ]
  },
  {
   "cell_type": "markdown",
   "metadata": {},
   "source": [
    "## 搭建模型\n",
    "\n",
    "torch最大的优势就是可以模块化搭建各种模型，torch.nn提供了丰富的模块化操作。"
   ]
  },
  {
   "cell_type": "markdown",
   "metadata": {},
   "source": [
    "### 模型架构"
   ]
  },
  {
   "cell_type": "markdown",
   "metadata": {},
   "source": [
    "我们这里就是用最简单的全连接神经网络：\n",
    "\n",
    "```text\n",
    "Flatten->[ Linear + Relu ] * 2 -> Linear\n",
    "```\n",
    "\n",
    "图像输入之后，\n",
    "\n",
    "1. 先使用Flatten操作把它展开为一维的向量（784维）。\n",
    "2. 然后经过两个神经元（线性变换+Relu激活），数据在这里变为512维。\n",
    "3. 最后通过一个线性层输出，数据从512维变为10维。\n",
    "\n",
    "也就是说：\n",
    "$$\n",
    "f_\\theta(x) = A_3(\\mathrm{relu}(A_2(\\mathrm{relu}(A_1(\\mathrm{Flatten}(x)) +b_1))+b_2))+b_3\n",
    "$$\n",
    "\n",
    "其中可以优化的参数是一些矩阵和向量：\n",
    "$$\n",
    "\\theta = \\{ A_1,A_2,A_3,b_1,b_2,b_3 \\}\n",
    "$$"
   ]
  },
  {
   "cell_type": "code",
   "execution_count": 10,
   "metadata": {},
   "outputs": [],
   "source": [
    "# Define model\n",
    "class NeuralNetwork(nn.Module):\n",
    "    def __init__(self):\n",
    "        super().__init__()\n",
    "        self.flatten = nn.Flatten()\n",
    "        self.linear_relu_stack = nn.Sequential(\n",
    "            nn.Linear(28*28, 512),\n",
    "            nn.ReLU(),\n",
    "            nn.Linear(512, 512),\n",
    "            nn.ReLU(),\n",
    "            nn.Linear(512, 10)\n",
    "        )\n",
    "\n",
    "    # 模型前向计算的过程\n",
    "    def forward(self, x):\n",
    "        x = self.flatten(x)\n",
    "        logits = self.linear_relu_stack(x)\n",
    "        return logits"
   ]
  },
  {
   "cell_type": "markdown",
   "metadata": {},
   "source": [
    "### 模型实例"
   ]
  },
  {
   "cell_type": "markdown",
   "metadata": {},
   "source": [
    "构造模型的实例，把权重文件保存在我们的mps显存里："
   ]
  },
  {
   "cell_type": "code",
   "execution_count": 11,
   "metadata": {},
   "outputs": [
    {
     "name": "stdout",
     "output_type": "stream",
     "text": [
      "Using mps device\n",
      "NeuralNetwork(\n",
      "  (flatten): Flatten(start_dim=1, end_dim=-1)\n",
      "  (linear_relu_stack): Sequential(\n",
      "    (0): Linear(in_features=784, out_features=512, bias=True)\n",
      "    (1): ReLU()\n",
      "    (2): Linear(in_features=512, out_features=512, bias=True)\n",
      "    (3): ReLU()\n",
      "    (4): Linear(in_features=512, out_features=10, bias=True)\n",
      "  )\n",
      ")\n"
     ]
    }
   ],
   "source": [
    "device = torch.device(\"mps\") if torch.backends.mps.is_available() else \"cpu\"\n",
    "print(f\"Using {device} device\")\n",
    "model = NeuralNetwork().to(device)\n",
    "print(model)"
   ]
  },
  {
   "cell_type": "markdown",
   "metadata": {},
   "source": [
    "## 优化模型"
   ]
  },
  {
   "cell_type": "markdown",
   "metadata": {},
   "source": [
    "我们的任务是构造分类模型：\n",
    "$$\n",
    "\\hat y = f_\\theta(x)\n",
    "$$\n",
    "\n",
    "按照一些统计理论和经验法则，这个任务使用交叉熵作为损失函数是最合适的。\n",
    "\n",
    "也就是说：\n",
    "\n",
    "$$\n",
    "\\mathrm{loss} = \\sum_i \\mathrm{CE}(y_i, \\hat y_i) = \\sum_i\\mathrm{CE}(y_i, f_\\theta(x_i))\n",
    "$$\n",
    "\n",
    "我们的目标是寻找参数$\\theta$最小化这个损失。"
   ]
  },
  {
   "cell_type": "markdown",
   "metadata": {},
   "source": [
    "### 损失函数\n",
    "torch自然也提供了交叉熵损失函数："
   ]
  },
  {
   "cell_type": "code",
   "execution_count": 12,
   "metadata": {},
   "outputs": [],
   "source": [
    "loss_fn = nn.CrossEntropyLoss()"
   ]
  },
  {
   "cell_type": "markdown",
   "metadata": {},
   "source": [
    "### 优化算法\n",
    "直接公式求解优化问题：\n",
    "$$\n",
    "\\theta^* = \\arg\\min_{\\theta\\in\\Theta} \\sum_i\\mathrm{CE}(y_i, f_\\theta(x_i))\n",
    "$$\n",
    "是不现实的。我们考虑使用迭代优化算法SGD（Stochastic Gradient Descent）求解近似解。\n",
    "\n",
    "在torch.optim中提供了各种优化器"
   ]
  },
  {
   "cell_type": "code",
   "execution_count": 13,
   "metadata": {},
   "outputs": [],
   "source": [
    "# 我们把模型参数传入优化器即可：\n",
    "optimizer = torch.optim.SGD(model.parameters(), lr=1e-3)"
   ]
  },
  {
   "cell_type": "markdown",
   "metadata": {},
   "source": [
    "## 模型训练和测试"
   ]
  },
  {
   "cell_type": "markdown",
   "metadata": {},
   "source": [
    "### 训练\n",
    "\n",
    "训练模型的过程就是不断把数据输入模型，计算损失：\n",
    "```python\n",
    "pred = model(X)\n",
    "loss = loss_fn(pred, y)\n",
    "```\n",
    "然后计算梯度，沿着梯度迭代参数：\n",
    "```python\n",
    "loss.backward()\n",
    "optimizer.step()\n",
    "optimizer.zero_grad()\n",
    "```"
   ]
  },
  {
   "cell_type": "code",
   "execution_count": 14,
   "metadata": {},
   "outputs": [],
   "source": [
    "def train(dataloader, model, loss_fn, optimizer):\n",
    "    model.train()\n",
    "    train_loss = 0\n",
    "    num_batches = len(dataloader)\n",
    "    for batch, (X, y) in enumerate(dataloader):\n",
    "        X, y = X.to(device), y.to(device)\n",
    "\n",
    "        # Compute prediction error\n",
    "        pred = model(X)\n",
    "        loss = loss_fn(pred, y)\n",
    "        train_loss += loss.item()\n",
    "\n",
    "        # Backpropagation\n",
    "        loss.backward()\n",
    "        optimizer.step()\n",
    "        optimizer.zero_grad()\n",
    "    train_loss /= num_batches\n",
    "    return train_loss"
   ]
  },
  {
   "cell_type": "markdown",
   "metadata": {},
   "source": [
    "### 测试\n",
    "为了避免过拟合，我们使用模型在测试集上的表现来衡量模型的好坏。"
   ]
  },
  {
   "cell_type": "code",
   "execution_count": 15,
   "metadata": {},
   "outputs": [],
   "source": [
    "def test(dataloader, model, loss_fn):\n",
    "    size = len(dataloader.dataset)\n",
    "    num_batches = len(dataloader)\n",
    "    model.eval()\n",
    "    test_loss, correct = 0, 0\n",
    "    with torch.no_grad():\n",
    "        for X, y in dataloader:\n",
    "            X, y = X.to(device), y.to(device)\n",
    "            pred = model(X)\n",
    "            test_loss += loss_fn(pred, y).item()\n",
    "            correct += (pred.argmax(1) == y).type(torch.float).sum().item()\n",
    "    test_loss /= num_batches\n",
    "    correct /= size\n",
    "    return test_loss, correct"
   ]
  },
  {
   "cell_type": "markdown",
   "metadata": {},
   "source": [
    "### 训练过程"
   ]
  },
  {
   "cell_type": "code",
   "execution_count": 16,
   "metadata": {},
   "outputs": [
    {
     "name": "stdout",
     "output_type": "stream",
     "text": [
      "Epoch 1 train_loss=2.2704, test_loss=2.2364, acc=0.3085\n",
      "Epoch 2 train_loss=2.1962, test_loss=2.1531, acc=0.4565\n",
      "Epoch 3 train_loss=2.0954, test_loss=2.0333, acc=0.4894\n",
      "Epoch 4 train_loss=1.9519, test_loss=1.8678, acc=0.5446\n",
      "Epoch 5 train_loss=1.7689, test_loss=1.6755, acc=0.5758\n",
      "Epoch 6 train_loss=1.5794, test_loss=1.4968, acc=0.6018\n",
      "Epoch 7 train_loss=1.4156, test_loss=1.3509, acc=0.6228\n",
      "Epoch 8 train_loss=1.2847, test_loss=1.2362, acc=0.6308\n",
      "Epoch 9 train_loss=1.1817, test_loss=1.1458, acc=0.6395\n",
      "Epoch 10 train_loss=1.1001, test_loss=1.0741, acc=0.6462\n",
      "Done!\n"
     ]
    }
   ],
   "source": [
    "epochs = 10\n",
    "loss_log = []\n",
    "for t in range(epochs):\n",
    "    train_loss = train(train_dataloader, model, loss_fn, optimizer)\n",
    "    test_loss, acc = test(test_dataloader, model, loss_fn)\n",
    "    loss_log.append((train_loss, test_loss, acc))\n",
    "    print(f\"Epoch {t + 1} {train_loss=:.4f}, {test_loss=:.4f}, {acc=:.4f}\")\n",
    "print(\"Done!\")"
   ]
  },
  {
   "cell_type": "code",
   "execution_count": 17,
   "metadata": {},
   "outputs": [],
   "source": [
    "def plot(loss_log):\n",
    "    train_loss, test_loss, acc = zip(*loss_log)\n",
    "    plt.plot(train_loss, label='train_loss')\n",
    "    plt.plot(test_loss, label='test_loss')\n",
    "    plt.plot(acc, label='accuracy')\n",
    "    plt.legend()\n",
    "    plt.xlabel('epoch')\n",
    "    plt.title('Loss and accuracy')"
   ]
  },
  {
   "cell_type": "code",
   "execution_count": 18,
   "metadata": {},
   "outputs": [
    {
     "data": {
      "image/png": "[encoded data removed]",
      "text/plain": [
       "<Figure size 640x480 with 1 Axes>"
      ]
     },
     "metadata": {},
     "output_type": "display_data"
    }
   ],
   "source": [
    "plot(loss_log)"
   ]
  },
  {
   "cell_type": "markdown",
   "metadata": {},
   "source": [
    "可以看到，在我们训练的10轮里，损失下降的很快。模型还有很大的提高空间。\n",
    "\n",
    "我们可以继续训练更多轮，并且增加早停条件来得到更好的模型："
   ]
  },
  {
   "cell_type": "code",
   "execution_count": 19,
   "metadata": {},
   "outputs": [
    {
     "name": "stdout",
     "output_type": "stream",
     "text": [
      "Epoch 11 train_loss=1.0351, test_loss=1.0166, acc=0.6497\n",
      "Epoch 12 train_loss=0.9825, test_loss=0.9700, acc=0.6565\n",
      "Epoch 13 train_loss=0.9396, test_loss=0.9318, acc=0.6621\n",
      "Epoch 14 train_loss=0.9041, test_loss=0.9000, acc=0.6687\n",
      "Epoch 15 train_loss=0.8743, test_loss=0.8731, acc=0.6735\n",
      "Epoch 16 train_loss=0.8489, test_loss=0.8500, acc=0.6788\n",
      "Epoch 17 train_loss=0.8269, test_loss=0.8299, acc=0.6852\n",
      "Epoch 18 train_loss=0.8078, test_loss=0.8123, acc=0.6906\n",
      "Epoch 19 train_loss=0.7908, test_loss=0.7965, acc=0.6949\n",
      "Epoch 20 train_loss=0.7755, test_loss=0.7823, acc=0.7006\n",
      "Epoch 21 train_loss=0.7617, test_loss=0.7693, acc=0.7085\n",
      "Epoch 22 train_loss=0.7489, test_loss=0.7572, acc=0.7145\n",
      "Epoch 23 train_loss=0.7370, test_loss=0.7459, acc=0.7206\n",
      "Epoch 24 train_loss=0.7259, test_loss=0.7353, acc=0.7257\n",
      "Epoch 25 train_loss=0.7154, test_loss=0.7253, acc=0.7310\n",
      "Early stopping at epoch 16\n",
      "Done!\n"
     ]
    }
   ],
   "source": [
    "max_epochs = 100\n",
    "target = 0.01\n",
    "prev = None\n",
    "for t in range(max_epochs):\n",
    "    train_loss = train(train_dataloader, model, loss_fn, optimizer)\n",
    "    test_loss, acc = test(test_dataloader, model, loss_fn)\n",
    "    if prev is None:\n",
    "        prev = train_loss\n",
    "    else:\n",
    "        # train loss几乎不再下降了\n",
    "        # 说明模型已经收敛了\n",
    "        if abs(train_loss - prev) < target:\n",
    "            print(f\"Early stopping at epoch {t + 1}\")\n",
    "            break\n",
    "        prev = train_loss\n",
    "    loss_log.append((train_loss, test_loss, acc))\n",
    "    print(f\"Epoch {t + 11} {train_loss=:.4f}, {test_loss=:.4f}, {acc=:.4f}\")\n",
    "print(\"Done!\")"
   ]
  },
  {
   "cell_type": "code",
   "execution_count": 20,
   "metadata": {},
   "outputs": [
    {
     "data": {
      "image/png": "[encoded data removed]",
      "text/plain": [
       "<Figure size 640x480 with 1 Axes>"
      ]
     },
     "metadata": {},
     "output_type": "display_data"
    }
   ],
   "source": [
    "plot(loss_log)"
   ]
  },
  {
   "cell_type": "markdown",
   "metadata": {},
   "source": [
    "## 模型推理\n",
    "\n",
    "训练好的模型，可以用来预测它没见过的图片是哪个类别："
   ]
  },
  {
   "cell_type": "code",
   "execution_count": 21,
   "metadata": {},
   "outputs": [
    {
     "name": "stdout",
     "output_type": "stream",
     "text": [
      "✅ Predicted: \"Ankle boot\", Actual: \"Ankle boot\"\n",
      "✅ Predicted: \"Pullover\", Actual: \"Pullover\"\n",
      "✅ Predicted: \"Trouser\", Actual: \"Trouser\"\n",
      "✅ Predicted: \"Trouser\", Actual: \"Trouser\"\n",
      "✅ Predicted: \"Shirt\", Actual: \"Shirt\"\n",
      "✅ Predicted: \"Trouser\", Actual: \"Trouser\"\n",
      "✅ Predicted: \"Coat\", Actual: \"Coat\"\n",
      "❌ Predicted: \"Coat\", Actual: \"Shirt\"\n",
      "❌ Predicted: \"Sneaker\", Actual: \"Sandal\"\n",
      "✅ Predicted: \"Sneaker\", Actual: \"Sneaker\"\n",
      "✅ Predicted: \"Coat\", Actual: \"Coat\"\n",
      "✅ Predicted: \"Sandal\", Actual: \"Sandal\"\n",
      "❌ Predicted: \"Sandal\", Actual: \"Sneaker\"\n",
      "✅ Predicted: \"Dress\", Actual: \"Dress\"\n",
      "✅ Predicted: \"Coat\", Actual: \"Coat\"\n"
     ]
    }
   ],
   "source": [
    "model.eval()\n",
    "for i in range(15):\n",
    "    x, y = test_data[i][0], test_data[i][1]\n",
    "    with torch.no_grad():\n",
    "        x = x.to(device)\n",
    "        pred = model(x)\n",
    "        predicted, actual = classes[pred[0].argmax(0)], classes[y]\n",
    "        wrong = predicted != actual\n",
    "        print(\"❌\" if wrong else \"✅\", f'Predicted: \"{predicted}\", Actual: \"{actual}\"')"
   ]
  },
  {
   "cell_type": "markdown",
   "metadata": {},
   "source": [
    "### 模型的保存和读取"
   ]
  },
  {
   "cell_type": "markdown",
   "metadata": {},
   "source": [
    "我们可以很轻松地保存模型的参数："
   ]
  },
  {
   "cell_type": "code",
   "execution_count": 22,
   "metadata": {},
   "outputs": [
    {
     "name": "stdout",
     "output_type": "stream",
     "text": [
      "Saved PyTorch Model State to model.pth\n"
     ]
    }
   ],
   "source": [
    "torch.save(model.state_dict(), \"model.pth\")\n",
    "print(\"Saved PyTorch Model State to model.pth\")"
   ]
  },
  {
   "cell_type": "markdown",
   "metadata": {},
   "source": [
    "其他人拿到我们的模型权重文件，可以进行相应的读取："
   ]
  },
  {
   "cell_type": "code",
   "execution_count": 23,
   "metadata": {},
   "outputs": [
    {
     "data": {
      "text/plain": [
       "<All keys matched successfully>"
      ]
     },
     "execution_count": 23,
     "metadata": {},
     "output_type": "execute_result"
    }
   ],
   "source": [
    "model = NeuralNetwork().to(device)\n",
    "model.load_state_dict(torch.load(\"model.pth\", weights_only=True))"
   ]
  },
  {
   "cell_type": "markdown",
   "metadata": {},
   "source": [
    "> 为了保持git仓库清洁，我把训练过程中产生的文件ignore掉"
   ]
  },
  {
   "cell_type": "code",
   "execution_count": 24,
   "metadata": {},
   "outputs": [],
   "source": [
    "!echo \"model.pth\\ndata\" > .gitignore"
   ]
  },
  {
   "cell_type": "markdown",
   "metadata": {},
   "source": [
    "恭喜你，你已经学会了AI的终极奥义，快去自己试试吧！"
   ]
  }
 ],
 "metadata": {
  "kernelspec": {
   "display_name": "Python 3",
   "language": "python",
   "name": "python3"
  },
  "language_info": {
   "codemirror_mode": {
    "name": "ipython",
    "version": 3
   },
   "file_extension": ".py",
   "mimetype": "text/x-python",
   "name": "python",
   "nbconvert_exporter": "python",
   "pygments_lexer": "ipython3",
   "version": "3.11.12"
  }
 },
 "nbformat": 4,
 "nbformat_minor": 2
}
