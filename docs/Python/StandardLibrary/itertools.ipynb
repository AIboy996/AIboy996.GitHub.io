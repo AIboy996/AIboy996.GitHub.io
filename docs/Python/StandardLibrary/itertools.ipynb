{
 "cells": [
  {
   "cell_type": "markdown",
   "id": "97af2727",
   "metadata": {},
   "source": [
    "---\n",
    "tags:\n",
    "- PyLib\n",
    "---"
   ]
  },
  {
   "cell_type": "markdown",
   "id": "dc831152",
   "metadata": {},
   "source": [
    "# itertools\n",
    "itertools提供了操纵iterable对象的各种实用的函数。\n",
    "\n",
    "> 关于Python中的iterable对象，我强烈推荐你去看PyCon 2013上Ned Batchelder给的talk: [Loop Like A Native](https://nedbatchelder.com/text/iter.html)。"
   ]
  },
  {
   "cell_type": "code",
   "execution_count": 1,
   "id": "cf191bcd",
   "metadata": {},
   "outputs": [
    {
     "name": "stdout",
     "output_type": "stream",
     "text": [
      "Python 3.13.5\n"
     ]
    }
   ],
   "source": [
    "!python -V # 注意，我使用的Python版本比较高，可能包含新特性"
   ]
  },
  {
   "cell_type": "code",
   "execution_count": 2,
   "id": "b643f144-ba08-48ce-a85b-616d9412be7a",
   "metadata": {
    "execution": {
     "iopub.execute_input": "2025-07-16T03:21:36.643220Z",
     "iopub.status.busy": "2025-07-16T03:21:36.642871Z",
     "iopub.status.idle": "2025-07-16T03:21:36.647907Z",
     "shell.execute_reply": "2025-07-16T03:21:36.647493Z",
     "shell.execute_reply.started": "2025-07-16T03:21:36.643196Z"
    }
   },
   "outputs": [
    {
     "data": {
      "text/plain": [
       "['__doc__',\n",
       " '__loader__',\n",
       " '__name__',\n",
       " '__package__',\n",
       " '__spec__',\n",
       " '_grouper',\n",
       " '_tee',\n",
       " '_tee_dataobject',\n",
       " 'accumulate',\n",
       " 'batched',\n",
       " 'chain',\n",
       " 'combinations',\n",
       " 'combinations_with_replacement',\n",
       " 'compress',\n",
       " 'count',\n",
       " 'cycle',\n",
       " 'dropwhile',\n",
       " 'filterfalse',\n",
       " 'groupby',\n",
       " 'islice',\n",
       " 'pairwise',\n",
       " 'permutations',\n",
       " 'product',\n",
       " 'repeat',\n",
       " 'starmap',\n",
       " 'takewhile',\n",
       " 'tee',\n",
       " 'zip_longest']"
      ]
     },
     "execution_count": 2,
     "metadata": {},
     "output_type": "execute_result"
    }
   ],
   "source": [
    "import itertools\n",
    "dir(itertools) # 东西不多"
   ]
  },
  {
   "cell_type": "markdown",
   "id": "f54a1436-1e34-4a58-b6f2-aa9c851a29d6",
   "metadata": {},
   "source": [
    "## 无穷迭代"
   ]
  },
  {
   "cell_type": "markdown",
   "id": "f6c6b0da",
   "metadata": {},
   "source": [
    "### count"
   ]
  },
  {
   "cell_type": "code",
   "execution_count": 3,
   "id": "639bf0f6-bf72-4839-8d6b-9f8a72147401",
   "metadata": {
    "execution": {
     "iopub.execute_input": "2025-07-16T03:21:38.816334Z",
     "iopub.status.busy": "2025-07-16T03:21:38.815740Z",
     "iopub.status.idle": "2025-07-16T03:21:38.819442Z",
     "shell.execute_reply": "2025-07-16T03:21:38.819012Z",
     "shell.execute_reply.started": "2025-07-16T03:21:38.816306Z"
    }
   },
   "outputs": [
    {
     "name": "stdout",
     "output_type": "stream",
     "text": [
      "1...3...5...7...9...11..."
     ]
    }
   ],
   "source": [
    "# 生成无穷的整数序列\n",
    "for i in itertools.count(start=1, step=2):\n",
    "    print(i, end=\"...\")\n",
    "    if i >= 10:\n",
    "        break"
   ]
  },
  {
   "cell_type": "markdown",
   "id": "5948f098",
   "metadata": {},
   "source": [
    "### cycle"
   ]
  },
  {
   "cell_type": "code",
   "execution_count": 4,
   "id": "226565fd-9694-4f99-997c-e8be804c123d",
   "metadata": {
    "execution": {
     "iopub.execute_input": "2025-07-16T03:21:39.132218Z",
     "iopub.status.busy": "2025-07-16T03:21:39.131803Z",
     "iopub.status.idle": "2025-07-16T03:21:39.135341Z",
     "shell.execute_reply": "2025-07-16T03:21:39.134932Z",
     "shell.execute_reply.started": "2025-07-16T03:21:39.132183Z"
    }
   },
   "outputs": [
    {
     "name": "stdout",
     "output_type": "stream",
     "text": [
      "appleapplea"
     ]
    }
   ],
   "source": [
    "# 循环输出一个iterable\n",
    "c = 0\n",
    "for s in itertools.cycle(\"apple\"):\n",
    "    print(s, end='')\n",
    "    c += 1\n",
    "    if c > 10:\n",
    "        break"
   ]
  },
  {
   "cell_type": "markdown",
   "id": "85a8e7e3",
   "metadata": {},
   "source": [
    "### repeat"
   ]
  },
  {
   "cell_type": "code",
   "execution_count": 5,
   "id": "110cfd2e-19e8-44b5-bcf2-71b8dfaab85b",
   "metadata": {
    "execution": {
     "iopub.execute_input": "2025-07-16T03:21:39.413006Z",
     "iopub.status.busy": "2025-07-16T03:21:39.412703Z",
     "iopub.status.idle": "2025-07-16T03:21:39.415816Z",
     "shell.execute_reply": "2025-07-16T03:21:39.415406Z",
     "shell.execute_reply.started": "2025-07-16T03:21:39.412985Z"
    }
   },
   "outputs": [
    {
     "name": "stdout",
     "output_type": "stream",
     "text": [
      "apple\n",
      "apple\n",
      "apple\n"
     ]
    }
   ],
   "source": [
    "# 重复一个item若干次，如果不指定次数就是无数次\n",
    "for s in itertools.repeat('apple', 3):\n",
    "    print(s)"
   ]
  },
  {
   "cell_type": "markdown",
   "id": "6728621b-d1db-433b-9390-42e32d60933f",
   "metadata": {},
   "source": [
    "## 组合迭代"
   ]
  },
  {
   "cell_type": "markdown",
   "id": "d1fa21b6",
   "metadata": {},
   "source": [
    "### product"
   ]
  },
  {
   "cell_type": "code",
   "execution_count": 6,
   "id": "e4a94178-70d7-45dc-a9e2-f57227d0cb70",
   "metadata": {
    "execution": {
     "iopub.execute_input": "2025-07-16T03:21:40.082036Z",
     "iopub.status.busy": "2025-07-16T03:21:40.081787Z",
     "iopub.status.idle": "2025-07-16T03:21:40.085171Z",
     "shell.execute_reply": "2025-07-16T03:21:40.084733Z",
     "shell.execute_reply.started": "2025-07-16T03:21:40.082017Z"
    }
   },
   "outputs": [
    {
     "name": "stdout",
     "output_type": "stream",
     "text": [
      "('1', 'a')\n",
      "('1', 'b')\n",
      "('1', 'c')\n",
      "('2', 'a')\n",
      "('2', 'b')\n",
      "('2', 'c')\n",
      "('3', 'a')\n",
      "('3', 'b')\n",
      "('3', 'c')\n"
     ]
    }
   ],
   "source": [
    "# 笛卡尔积\n",
    "# 注意，product会先【穷举】iterable对象中所有的东西，然后在计算笛卡尔积\n",
    "# 所以不可以输入无穷iterable，否则会卡死\n",
    "for i in itertools.product('123', 'abc'):\n",
    "    print(i)"
   ]
  },
  {
   "cell_type": "code",
   "execution_count": 7,
   "id": "6e02b3ee-c084-4359-bc9c-efa5f9495504",
   "metadata": {
    "execution": {
     "iopub.execute_input": "2025-07-16T03:21:40.391238Z",
     "iopub.status.busy": "2025-07-16T03:21:40.390919Z",
     "iopub.status.idle": "2025-07-16T03:21:40.394194Z",
     "shell.execute_reply": "2025-07-16T03:21:40.393738Z",
     "shell.execute_reply.started": "2025-07-16T03:21:40.391217Z"
    }
   },
   "outputs": [
    {
     "name": "stdout",
     "output_type": "stream",
     "text": [
      "('a', 'a')\n",
      "('a', 'b')\n",
      "('a', 'c')\n",
      "('b', 'a')\n",
      "('b', 'b')\n",
      "('b', 'c')\n",
      "('c', 'a')\n",
      "('c', 'b')\n",
      "('c', 'c')\n"
     ]
    }
   ],
   "source": [
    "# 自己和自己笛卡尔积\n",
    "for i in itertools.product('abc', repeat=2):\n",
    "    print(i)"
   ]
  },
  {
   "cell_type": "markdown",
   "id": "1fd0f4df",
   "metadata": {},
   "source": [
    "### permutations"
   ]
  },
  {
   "cell_type": "code",
   "execution_count": 8,
   "id": "4db1bbae-24ad-4da1-ba4a-e1ceb498545e",
   "metadata": {
    "execution": {
     "iopub.execute_input": "2025-07-16T03:22:19.739547Z",
     "iopub.status.busy": "2025-07-16T03:22:19.739232Z",
     "iopub.status.idle": "2025-07-16T03:22:19.742435Z",
     "shell.execute_reply": "2025-07-16T03:22:19.742008Z",
     "shell.execute_reply.started": "2025-07-16T03:22:19.739525Z"
    }
   },
   "outputs": [
    {
     "name": "stdout",
     "output_type": "stream",
     "text": [
      "(0, 1, 2)\n",
      "(0, 2, 1)\n",
      "(1, 0, 2)\n",
      "(1, 2, 0)\n",
      "(2, 0, 1)\n",
      "(2, 1, 0)\n"
     ]
    }
   ],
   "source": [
    "# 全排列\n",
    "for i in itertools.permutations(range(3)):\n",
    "    print(i)"
   ]
  },
  {
   "cell_type": "code",
   "execution_count": 9,
   "id": "60aacd98-7802-427b-bfc0-a5e1da2d73ee",
   "metadata": {
    "execution": {
     "iopub.execute_input": "2025-07-16T03:23:09.351674Z",
     "iopub.status.busy": "2025-07-16T03:23:09.351348Z",
     "iopub.status.idle": "2025-07-16T03:23:09.355420Z",
     "shell.execute_reply": "2025-07-16T03:23:09.354716Z",
     "shell.execute_reply.started": "2025-07-16T03:23:09.351651Z"
    }
   },
   "outputs": [
    {
     "name": "stdout",
     "output_type": "stream",
     "text": [
      "('a', 'p')\n",
      "('a', 'p')\n",
      "('a', 'l')\n",
      "('a', 'e')\n",
      "('p', 'a')\n",
      "('p', 'p')\n",
      "('p', 'l')\n",
      "('p', 'e')\n",
      "('p', 'a')\n",
      "('p', 'p')\n",
      "('p', 'l')\n",
      "('p', 'e')\n",
      "('l', 'a')\n",
      "('l', 'p')\n",
      "('l', 'p')\n",
      "('l', 'e')\n",
      "('e', 'a')\n",
      "('e', 'p')\n",
      "('e', 'p')\n",
      "('e', 'l')\n"
     ]
    }
   ],
   "source": [
    "# 部分排列\n",
    "for i in itertools.permutations(\"apple\", r=2):\n",
    "    # 注意这里面的两个p视为不同的对象\n",
    "    print(i)"
   ]
  },
  {
   "cell_type": "markdown",
   "id": "a22f5b08",
   "metadata": {},
   "source": [
    "### combinations"
   ]
  },
  {
   "cell_type": "code",
   "execution_count": 10,
   "id": "898011b5-3c07-427d-ab0c-673f7d8875ff",
   "metadata": {
    "execution": {
     "iopub.execute_input": "2025-07-16T03:24:01.761859Z",
     "iopub.status.busy": "2025-07-16T03:24:01.761525Z",
     "iopub.status.idle": "2025-07-16T03:24:01.764837Z",
     "shell.execute_reply": "2025-07-16T03:24:01.764422Z",
     "shell.execute_reply.started": "2025-07-16T03:24:01.761835Z"
    }
   },
   "outputs": [
    {
     "name": "stdout",
     "output_type": "stream",
     "text": [
      "(0, 1)\n",
      "(0, 2)\n",
      "(1, 2)\n"
     ]
    }
   ],
   "source": [
    "# 组合\n",
    "for i in itertools.combinations(range(3), r=2):\n",
    "    print(i)"
   ]
  },
  {
   "cell_type": "markdown",
   "id": "1a5b3e8f",
   "metadata": {},
   "source": [
    "### combinations_with_replacement"
   ]
  },
  {
   "cell_type": "code",
   "execution_count": 11,
   "id": "ed403fcd-a829-482b-8b25-984cb6757951",
   "metadata": {
    "execution": {
     "iopub.execute_input": "2025-07-16T03:24:49.695937Z",
     "iopub.status.busy": "2025-07-16T03:24:49.695621Z",
     "iopub.status.idle": "2025-07-16T03:24:49.698942Z",
     "shell.execute_reply": "2025-07-16T03:24:49.698533Z",
     "shell.execute_reply.started": "2025-07-16T03:24:49.695916Z"
    }
   },
   "outputs": [
    {
     "name": "stdout",
     "output_type": "stream",
     "text": [
      "(0, 0)\n",
      "(0, 1)\n",
      "(0, 2)\n",
      "(1, 1)\n",
      "(1, 2)\n",
      "(2, 2)\n"
     ]
    }
   ],
   "source": [
    "# 有放回组合抽样\n",
    "for i in itertools.combinations_with_replacement(range(3), r=2):\n",
    "    print(i)"
   ]
  },
  {
   "cell_type": "markdown",
   "id": "306c7dd2-9967-40e1-9ebd-18878e34c294",
   "metadata": {},
   "source": [
    "## 拼好迭"
   ]
  },
  {
   "cell_type": "markdown",
   "id": "dff85f75-d278-426b-80d6-3d5d66bbc5a9",
   "metadata": {},
   "source": [
    "### accumulate"
   ]
  },
  {
   "cell_type": "code",
   "execution_count": 12,
   "id": "c379ceed-7ced-4f1f-ae2d-c14046057dff",
   "metadata": {
    "execution": {
     "iopub.execute_input": "2025-07-16T03:33:13.903979Z",
     "iopub.status.busy": "2025-07-16T03:33:13.903402Z",
     "iopub.status.idle": "2025-07-16T03:33:13.906769Z",
     "shell.execute_reply": "2025-07-16T03:33:13.906302Z",
     "shell.execute_reply.started": "2025-07-16T03:33:13.903960Z"
    }
   },
   "outputs": [
    {
     "name": "stdout",
     "output_type": "stream",
     "text": [
      "0...1...3...6...10...15...21...28...36...45..."
     ]
    }
   ],
   "source": [
    "# 累加\n",
    "for i in itertools.accumulate(range(10)):\n",
    "    print(i, end='...')"
   ]
  },
  {
   "cell_type": "code",
   "execution_count": 13,
   "id": "e5e6f428-c018-42db-b9af-532a40e32144",
   "metadata": {
    "execution": {
     "iopub.execute_input": "2025-07-16T03:36:08.284364Z",
     "iopub.status.busy": "2025-07-16T03:36:08.283739Z",
     "iopub.status.idle": "2025-07-16T03:36:08.287493Z",
     "shell.execute_reply": "2025-07-16T03:36:08.287050Z",
     "shell.execute_reply.started": "2025-07-16T03:36:08.284342Z"
    }
   },
   "outputs": [
    {
     "name": "stdout",
     "output_type": "stream",
     "text": [
      "100.00\n",
      "110.00\n",
      "121.00\n",
      "133.10\n",
      "146.41\n",
      "161.05\n"
     ]
    }
   ],
   "source": [
    "# 累乘\n",
    "for i in itertools.accumulate(\n",
    "    itertools.repeat(1.1, 5), # 1.1 倍增\n",
    "    func=lambda x, y: x * y,\n",
    "    initial=100, # 从100开始\n",
    "):\n",
    "    print(format(i, \".2f\"))"
   ]
  },
  {
   "cell_type": "markdown",
   "id": "3ccd986e",
   "metadata": {},
   "source": [
    "如果你熟悉标准库，会发现还有一个functools.reduce函数和accumulate很像："
   ]
  },
  {
   "cell_type": "code",
   "execution_count": 14,
   "id": "2f80f0f5",
   "metadata": {},
   "outputs": [
    {
     "data": {
      "text/plain": [
       "45"
      ]
     },
     "execution_count": 14,
     "metadata": {},
     "output_type": "execute_result"
    }
   ],
   "source": [
    "from functools import reduce\n",
    "\n",
    "reduce(lambda x, y: x + y, range(10))"
   ]
  },
  {
   "cell_type": "markdown",
   "id": "fa76788d",
   "metadata": {},
   "source": [
    "不过reduce只会返回最后的结果。"
   ]
  },
  {
   "cell_type": "markdown",
   "id": "e4fc26d6-0cf8-477b-af35-2ad19979b01f",
   "metadata": {},
   "source": [
    "### batched\n",
    "> Python 3.12+才有这个函数"
   ]
  },
  {
   "cell_type": "code",
   "execution_count": 15,
   "id": "6e46eb10-c2f4-4a72-9b4f-1bcd86876697",
   "metadata": {
    "execution": {
     "iopub.execute_input": "2025-07-16T03:37:05.590172Z",
     "iopub.status.busy": "2025-07-16T03:37:05.589711Z",
     "iopub.status.idle": "2025-07-16T03:37:05.600805Z",
     "shell.execute_reply": "2025-07-16T03:37:05.600148Z",
     "shell.execute_reply.started": "2025-07-16T03:37:05.590149Z"
    }
   },
   "outputs": [
    {
     "name": "stdout",
     "output_type": "stream",
     "text": [
      "(0, 1, 2)\n",
      "(3, 4, 5)\n",
      "(6, 7, 8)\n",
      "(9,)\n"
     ]
    }
   ],
   "source": [
    "# 一批一批取出对象\n",
    "# n是batch size\n",
    "# strict为真的时候，需要可迭代对象的长度被n整除，否则跑出ValueError\n",
    "for b in itertools.batched(range(10), n=3, strict=False):\n",
    "    print(b)"
   ]
  },
  {
   "cell_type": "markdown",
   "id": "5165ec6d-25aa-407a-878d-c7c72d5bd049",
   "metadata": {},
   "source": [
    "### chain"
   ]
  },
  {
   "cell_type": "code",
   "execution_count": 16,
   "id": "17943878",
   "metadata": {},
   "outputs": [
    {
     "name": "stdout",
     "output_type": "stream",
     "text": [
      "0...1...2...0...1...2...3...4...0...1..."
     ]
    }
   ],
   "source": [
    "# 把若干个iterable对象拼起来\n",
    "for i in itertools.chain(range(3), range(5), range(2)):\n",
    "    print(i, end='...')"
   ]
  },
  {
   "cell_type": "code",
   "execution_count": 17,
   "id": "97345f6c",
   "metadata": {},
   "outputs": [
    {
     "name": "stdout",
     "output_type": "stream",
     "text": [
      "a p p l e j u i c e "
     ]
    }
   ],
   "source": [
    "# 把嵌套的iterable对象拼起来\n",
    "for i in itertools.chain.from_iterable([\"apple\", \"juice\"]):\n",
    "    print(i, end=\" \")\n"
   ]
  },
  {
   "cell_type": "markdown",
   "id": "31e760f8",
   "metadata": {},
   "source": [
    "### compress"
   ]
  },
  {
   "cell_type": "code",
   "execution_count": 18,
   "id": "719a0259",
   "metadata": {},
   "outputs": [
    {
     "name": "stdout",
     "output_type": "stream",
     "text": [
      "ale"
     ]
    }
   ],
   "source": [
    "# 根据selecotr去掉一些元素\n",
    "for i in itertools.compress(\"apple\", selectors=[1, 0, 0, 1, 1]):\n",
    "    print(i, end=\"\")"
   ]
  },
  {
   "cell_type": "markdown",
   "id": "918a7e6f",
   "metadata": {},
   "source": [
    "### dropwhile"
   ]
  },
  {
   "cell_type": "code",
   "execution_count": 19,
   "id": "76dad3f1",
   "metadata": {},
   "outputs": [
    {
     "name": "stdout",
     "output_type": "stream",
     "text": [
      "3...1...0...8..."
     ]
    }
   ],
   "source": [
    "# 丢弃掉iterable中【前面几个】不满足条件的对象\n",
    "# 直到有满足条件的对象出现\n",
    "# 输出后面所有的对象\n",
    "for i in itertools.dropwhile(lambda x: x > 5, [9, 6, 3, 1, 0, 8]):\n",
    "    print(i, end=\"...\")"
   ]
  },
  {
   "cell_type": "markdown",
   "id": "787ab1c8",
   "metadata": {},
   "source": [
    "### takewhile"
   ]
  },
  {
   "cell_type": "code",
   "execution_count": 20,
   "id": "d29e960d",
   "metadata": {},
   "outputs": [
    {
     "name": "stdout",
     "output_type": "stream",
     "text": [
      "9...6..."
     ]
    }
   ],
   "source": [
    "# takewhile反之\n",
    "# 一旦有不满足条件的item，就停止迭代\n",
    "for i in itertools.takewhile(lambda x: x > 5, [9, 6, 3, 1, 0, 8]):\n",
    "    print(i, end=\"...\")"
   ]
  },
  {
   "cell_type": "markdown",
   "id": "9d9e8bdc",
   "metadata": {},
   "source": [
    "### filterfalse"
   ]
  },
  {
   "cell_type": "code",
   "execution_count": 21,
   "id": "05a2f7b5",
   "metadata": {},
   "outputs": [
    {
     "name": "stdout",
     "output_type": "stream",
     "text": [
      "3...1...0..."
     ]
    }
   ],
   "source": [
    "# 丢弃掉iterable中【所有】不满足条件的对象\n",
    "# 只输出满足条件的对象\n",
    "for i in itertools.filterfalse(lambda x: x > 5, [9, 6, 3, 1, 0, 8]):\n",
    "    print(i, end=\"...\")"
   ]
  },
  {
   "cell_type": "code",
   "execution_count": 22,
   "id": "9a17d733",
   "metadata": {},
   "outputs": [
    {
     "name": "stdout",
     "output_type": "stream",
     "text": [
      "9...6...8..."
     ]
    }
   ],
   "source": [
    "# 顺带一提，built-in的filter和filterfalse效果类似\n",
    "for i in filter(lambda x: x > 5, [9, 6, 3, 1, 0, 8]):\n",
    "    print(i, end='...')"
   ]
  },
  {
   "cell_type": "markdown",
   "id": "2ac90f14",
   "metadata": {},
   "source": [
    "### groupby"
   ]
  },
  {
   "cell_type": "code",
   "execution_count": 23,
   "id": "cab75024",
   "metadata": {},
   "outputs": [
    {
     "name": "stdout",
     "output_type": "stream",
     "text": [
      "a ['a']\n",
      "p ['p', 'p']\n",
      "l ['l']\n",
      "e ['e']\n",
      "  [' ']\n",
      "p ['p', 'p']\n",
      "i ['i']\n"
     ]
    }
   ],
   "source": [
    "# groupby默认按照iterable中每个对象的id()作为key进行分组\n",
    "# 每当遇到和上一组不同的key就开辟一个新组\n",
    "# 因此下面的例子中p会出现两个分组\n",
    "for k, g in itertools.groupby(\"apple ppi\"):\n",
    "    print(k, list(g))"
   ]
  },
  {
   "cell_type": "markdown",
   "id": "028a249b",
   "metadata": {},
   "source": [
    "### islice"
   ]
  },
  {
   "cell_type": "code",
   "execution_count": 24,
   "id": "f28a7bff",
   "metadata": {},
   "outputs": [
    {
     "data": {
      "text/plain": [
       "{'a', 'e', 'l', 'p'}"
      ]
     },
     "execution_count": 24,
     "metadata": {},
     "output_type": "execute_result"
    }
   ],
   "source": [
    "a_set = set(\"apple\")\n",
    "a_set"
   ]
  },
  {
   "cell_type": "code",
   "execution_count": 25,
   "id": "c454cfa1",
   "metadata": {},
   "outputs": [
    {
     "ename": "TypeError",
     "evalue": "'set' object is not subscriptable",
     "output_type": "error",
     "traceback": [
      "\u001b[31m---------------------------------------------------------------------------\u001b[39m",
      "\u001b[31mTypeError\u001b[39m                                 Traceback (most recent call last)",
      "\u001b[36mCell\u001b[39m\u001b[36m \u001b[39m\u001b[32mIn[25]\u001b[39m\u001b[32m, line 2\u001b[39m\n\u001b[32m      1\u001b[39m \u001b[38;5;66;03m# 集合是不可以切片的\u001b[39;00m\n\u001b[32m----> \u001b[39m\u001b[32m2\u001b[39m a_set[\u001b[32m0\u001b[39m:\u001b[32m3\u001b[39m]\n",
      "\u001b[31mTypeError\u001b[39m: 'set' object is not subscriptable"
     ]
    }
   ],
   "source": [
    "# 集合是不可以切片的\n",
    "a_set[0:3]"
   ]
  },
  {
   "cell_type": "code",
   "execution_count": 26,
   "id": "722fd3f6",
   "metadata": {},
   "outputs": [
    {
     "name": "stdout",
     "output_type": "stream",
     "text": [
      "p...e...l..."
     ]
    }
   ],
   "source": [
    "# islice可以让一些不支持切片操作的iterable进行切片\n",
    "# 但是不支持负数切片！\n",
    "for i in itertools.islice(a_set, 0, 3):\n",
    "    print(i, end='...')"
   ]
  },
  {
   "cell_type": "code",
   "execution_count": 27,
   "id": "94b1065d",
   "metadata": {},
   "outputs": [
    {
     "data": {
      "text/plain": [
       "['p', 'e', 'l', 'a']"
      ]
     },
     "execution_count": 27,
     "metadata": {},
     "output_type": "execute_result"
    }
   ],
   "source": [
    "# 注意这里 a_set 中元素的顺序并非字典顺序\n",
    "list(a_set)"
   ]
  },
  {
   "cell_type": "markdown",
   "id": "35fb2383",
   "metadata": {},
   "source": [
    "### pairwise\n",
    "> Python 3.10+才有这个函数"
   ]
  },
  {
   "cell_type": "code",
   "execution_count": 28,
   "id": "43c079a4",
   "metadata": {},
   "outputs": [
    {
     "name": "stdout",
     "output_type": "stream",
     "text": [
      "('a', 'p')\n",
      "('p', 'p')\n",
      "('p', 'l')\n",
      "('l', 'e')\n"
     ]
    }
   ],
   "source": [
    "# 有重叠地，一对一对遍历iterable中的对象\n",
    "for i in itertools.pairwise(\"apple\"):\n",
    "    print(i)"
   ]
  },
  {
   "cell_type": "code",
   "execution_count": 29,
   "id": "f529231f",
   "metadata": {},
   "outputs": [
    {
     "name": "stdout",
     "output_type": "stream",
     "text": [
      "-2...1...4...3..."
     ]
    }
   ],
   "source": [
    "# 例如我们要计算一阶差分\n",
    "for i in itertools.pairwise([3, 1, 2, 6, 9]):\n",
    "    print(i[1] - i[0], end=\"...\")"
   ]
  },
  {
   "cell_type": "markdown",
   "id": "55e7922f",
   "metadata": {},
   "source": [
    "### starmap"
   ]
  },
  {
   "cell_type": "code",
   "execution_count": 30,
   "id": "86382409",
   "metadata": {},
   "outputs": [
    {
     "data": {
      "text/plain": [
       "[3, 10]"
      ]
     },
     "execution_count": 30,
     "metadata": {},
     "output_type": "execute_result"
    }
   ],
   "source": [
    "# map大家比较熟悉，就是把一个函数作用到iterable的每一个对象中\n",
    "# f(i) for i in iterable\n",
    "list(map(sum, [(1, 2), (4, 6)]))"
   ]
  },
  {
   "cell_type": "code",
   "execution_count": 31,
   "id": "7e48b0ef",
   "metadata": {},
   "outputs": [],
   "source": [
    "def add(a, b):\n",
    "    return f\"{a}+{b}={a + b}\""
   ]
  },
  {
   "cell_type": "code",
   "execution_count": 32,
   "id": "b5068f87",
   "metadata": {},
   "outputs": [
    {
     "data": {
      "text/plain": [
       "['1+2=3', '4+6=10']"
      ]
     },
     "execution_count": 32,
     "metadata": {},
     "output_type": "execute_result"
    }
   ],
   "source": [
    "# starmap则是把iterable的每个对象解包传入到函数中\n",
    "# f(*i) for i in iterable\n",
    "list(itertools.starmap(add, [(1, 2), (4, 6)]))"
   ]
  },
  {
   "cell_type": "markdown",
   "id": "1835b6c0",
   "metadata": {},
   "source": [
    "### tee"
   ]
  },
  {
   "cell_type": "code",
   "execution_count": 33,
   "id": "90033eb1",
   "metadata": {},
   "outputs": [],
   "source": [
    "def gen(n=5):\n",
    "    for i in range(n):\n",
    "        print(f'{i} is computed...')\n",
    "        yield i"
   ]
  },
  {
   "cell_type": "code",
   "execution_count": 34,
   "id": "1da2b56e",
   "metadata": {},
   "outputs": [
    {
     "name": "stdout",
     "output_type": "stream",
     "text": [
      "0 is computed...\n",
      "1 is computed...\n",
      "2 is computed...\n",
      "3 is computed...\n",
      "4 is computed...\n"
     ]
    },
    {
     "data": {
      "text/plain": [
       "([0, 1, 2, 3, 4], [])"
      ]
     },
     "execution_count": 34,
     "metadata": {},
     "output_type": "execute_result"
    }
   ],
   "source": [
    "g = gen()\n",
    "# 对于一个生成器来说，我们只能遍历一次\n",
    "# 第二次遍历的时候就空了\n",
    "list(g), list(g)"
   ]
  },
  {
   "cell_type": "code",
   "execution_count": 35,
   "id": "2574e063",
   "metadata": {},
   "outputs": [],
   "source": [
    "it1, it2 = itertools.tee(gen(), 2)"
   ]
  },
  {
   "cell_type": "code",
   "execution_count": 36,
   "id": "7628276c",
   "metadata": {},
   "outputs": [
    {
     "name": "stdout",
     "output_type": "stream",
     "text": [
      "0 is computed...\n",
      "1 is computed...\n",
      "2 is computed...\n",
      "3 is computed...\n",
      "4 is computed...\n"
     ]
    },
    {
     "data": {
      "text/plain": [
       "([0, 1, 2, 3, 4], [0, 1, 2, 3, 4])"
      ]
     },
     "execution_count": 36,
     "metadata": {},
     "output_type": "execute_result"
    }
   ],
   "source": [
    "# 可以看到，我们依然只计算了一次\n",
    "# 【并且计算的过程是在迭代的时候进行的，创建tee迭代器的时候不会计算】\n",
    "# 但是可以把输出流复制很多份\n",
    "list(it1), list(it2)"
   ]
  },
  {
   "cell_type": "markdown",
   "id": "c1dc3011",
   "metadata": {},
   "source": [
    "### zip_longest"
   ]
  },
  {
   "cell_type": "code",
   "execution_count": 37,
   "id": "eec031ed",
   "metadata": {},
   "outputs": [
    {
     "name": "stdout",
     "output_type": "stream",
     "text": [
      "a 0\n",
      "p 1\n",
      "p 2\n",
      "l None\n",
      "e None\n"
     ]
    }
   ],
   "source": [
    "# 如果其中某个iterable不够长，就用None来补充\n",
    "for t in itertools.zip_longest(\"apple\", range(3), fillvalue=None):\n",
    "    print(*t)"
   ]
  },
  {
   "cell_type": "code",
   "execution_count": 38,
   "id": "fa541b4a",
   "metadata": {},
   "outputs": [
    {
     "name": "stdout",
     "output_type": "stream",
     "text": [
      "a 0\n",
      "p 1\n",
      "p 2\n"
     ]
    }
   ],
   "source": [
    "# built-in的zip相当于是zip_shortest\n",
    "for t in zip(\"apple\", range(3)):\n",
    "    print(*t)"
   ]
  },
  {
   "cell_type": "markdown",
   "id": "c5c67a4c",
   "metadata": {},
   "source": [
    "## more-itertools"
   ]
  },
  {
   "cell_type": "markdown",
   "id": "4f291076",
   "metadata": {},
   "source": [
    "如果你觉得这些itertools都是脱裤子放屁，不如自己手撸。\n",
    "\n",
    "那么我必须向你介绍更多的屁：[more-itertools](https://pypi.org/project/more-itertools/)\n",
    "\n",
    "> 事实上，itertools作为标准库是用[C实现](https://github.com/python/cpython/blob/main/Modules/itertoolsmodule.c)的，自己手撸可能真不如标准库。而more-itertools是一个纯Python实现的库，封装了很多好用的小工具。"
   ]
  },
  {
   "cell_type": "code",
   "execution_count": 39,
   "id": "eb89c162",
   "metadata": {},
   "outputs": [
    {
     "name": "stdout",
     "output_type": "stream",
     "text": [
      "Requirement already satisfied: more-itertools in /Users/admin/miniconda3/lib/python3.13/site-packages (10.7.0)\n"
     ]
    }
   ],
   "source": [
    "!pip install more-itertools"
   ]
  },
  {
   "cell_type": "code",
   "execution_count": 40,
   "id": "3aceb2d0",
   "metadata": {},
   "outputs": [],
   "source": [
    "import more_itertools"
   ]
  },
  {
   "cell_type": "code",
   "execution_count": 41,
   "id": "8e9a4176",
   "metadata": {},
   "outputs": [
    {
     "data": {
      "text/plain": [
       "False"
      ]
     },
     "execution_count": 41,
     "metadata": {},
     "output_type": "execute_result"
    }
   ],
   "source": [
    "more_itertools.is_prime(5999)"
   ]
  },
  {
   "cell_type": "code",
   "execution_count": 42,
   "id": "c6f62123",
   "metadata": {},
   "outputs": [
    {
     "data": {
      "text/plain": [
       "[7, 857]"
      ]
     },
     "execution_count": 42,
     "metadata": {},
     "output_type": "execute_result"
    }
   ],
   "source": [
    "list(more_itertools.factor(5999))"
   ]
  }
 ],
 "metadata": {
  "kernelspec": {
   "display_name": "base",
   "language": "python",
   "name": "python3"
  },
  "language_info": {
   "codemirror_mode": {
    "name": "ipython",
    "version": 3
   },
   "file_extension": ".py",
   "mimetype": "text/x-python",
   "name": "python",
   "nbconvert_exporter": "python",
   "pygments_lexer": "ipython3",
   "version": "3.13.5"
  }
 },
 "nbformat": 4,
 "nbformat_minor": 5
}
