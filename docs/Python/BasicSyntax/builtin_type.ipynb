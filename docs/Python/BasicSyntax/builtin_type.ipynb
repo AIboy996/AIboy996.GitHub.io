{
 "cells": [
  {
   "cell_type": "markdown",
   "metadata": {},
   "source": [
    "---\n",
    "tags:\n",
    "- PyIntro\n",
    "- Leetcode\n",
    "---"
   ]
  },
  {
   "cell_type": "markdown",
   "metadata": {},
   "source": [
    "# Python数据结构练习\n",
    "\n",
    "Python内置了很多的数据类型：\n",
    "\n",
    "- 字符串（string）\n",
    "- 布尔值（bool）\n",
    "- 列表（list）\n",
    "- 元组（tuple）\n",
    "- 集合（set）\n",
    "- 整数（int）\n",
    "- 浮点数（float）\n",
    "- 复数（complex）\n",
    "- 字典（dict）\n",
    "\n",
    "字符串、列表、字典可能是大家最熟悉的，它们真的太常用了。各种运算、方法用的飞起。\n",
    "\n",
    "但是集合、整数、元组也很有用，尤其是刷Leetcode的时候（集合怎么做运算真的很容易忘！）。\n",
    "\n",
    "所以特地整理了这一篇，算是给自己的一个Cheating Sheet，希望也能帮到你～"
   ]
  },
  {
   "cell_type": "markdown",
   "metadata": {},
   "source": [
    "## 集合"
   ]
  },
  {
   "cell_type": "code",
   "execution_count": null,
   "metadata": {},
   "outputs": [],
   "source": []
  },
  {
   "cell_type": "markdown",
   "metadata": {},
   "source": []
  }
 ],
 "metadata": {
  "language_info": {
   "name": "python"
  }
 },
 "nbformat": 4,
 "nbformat_minor": 2
}
