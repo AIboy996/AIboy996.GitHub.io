{
 "cells": [
  {
   "cell_type": "markdown",
   "id": "f58a6c68-c7a9-4ce1-9b09-30e48c20d0c5",
   "metadata": {},
   "source": [
    "---\n",
    "include:\n",
    "- math\n",
    "\n",
    "tags:\n",
    "- Leetcode\n",
    "---"
   ]
  },
  {
   "cell_type": "markdown",
   "id": "6f314bb9-21f0-4757-b64b-13b2a8e88415",
   "metadata": {},
   "source": [
    "# [大步上台阶](https://vjudge.net/problem/51Nod-3100)"
   ]
  },
  {
   "cell_type": "markdown",
   "id": "eb03f083-6a41-4960-b977-96b90b773d3e",
   "metadata": {},
   "source": [
    "一共`n`级台阶，每次走可以`3k+1`步（1,4,7,...），问总方案数（对100003取模）。\n",
    "\n",
    "例如`n=5`，有下三种方案：\n",
    "\n",
    "- `1,1,1,1,1`\n",
    "- `1,4`\n",
    "- `4,1`\n"
   ]
  },
  {
   "cell_type": "markdown",
   "id": "81df2efa-d198-4f54-8a67-0463b0becb9a",
   "metadata": {},
   "source": [
    "## 题解"
   ]
  },
  {
   "cell_type": "markdown",
   "id": "9b44663b-a2d4-4d47-b825-e844ebe76b86",
   "metadata": {},
   "source": [
    "### 递归"
   ]
  },
  {
   "cell_type": "markdown",
   "id": "7a0db79b-0857-487c-8d80-d50d0fe04288",
   "metadata": {},
   "source": [
    "递归的想法非常简单，考虑最后一次走了多少步即可：\n",
    "$$\n",
    "f(n) = f(n-1)+f(n-4)+f(n-7)+\\cdots\n",
    "$$"
   ]
  },
  {
   "cell_type": "code",
   "execution_count": 1,
   "id": "6b57d8e4-c3df-4200-9464-91119f6cee92",
   "metadata": {},
   "outputs": [],
   "source": [
    "from functools import cache\n",
    "\n",
    "# 如果不用cache的话，非常慢～\n",
    "@cache\n",
    "def f(n):\n",
    "    if n <= 3:\n",
    "        return 1\n",
    "    else:\n",
    "        return sum(f(n - i) for i in range(1, n + 1, 3)) % 100003"
   ]
  },
  {
   "cell_type": "code",
   "execution_count": 2,
   "id": "e73cbfbe-1ce9-4c3b-8f9f-1cf77968e332",
   "metadata": {},
   "outputs": [
    {
     "data": {
      "text/plain": [
       "66385"
      ]
     },
     "execution_count": 2,
     "metadata": {},
     "output_type": "execute_result"
    }
   ],
   "source": [
    "f(100)"
   ]
  },
  {
   "cell_type": "markdown",
   "id": "2db6dcc8-ef9e-4d92-bd44-ffc728137e6f",
   "metadata": {},
   "source": [
    "默认情况下，最大递归深度是1000，如果要计算`f(2000)`会抛出错误："
   ]
  },
  {
   "cell_type": "code",
   "execution_count": 3,
   "id": "d9a56356-c3e6-440a-84d6-feee74b67e54",
   "metadata": {},
   "outputs": [
    {
     "name": "stdout",
     "output_type": "stream",
     "text": [
      "RecursionError('maximum recursion depth exceeded')\n"
     ]
    }
   ],
   "source": [
    "try:\n",
    "    f(2000)\n",
    "except Exception as e:\n",
    "    print(repr(e))"
   ]
  },
  {
   "cell_type": "code",
   "execution_count": 4,
   "id": "d0dda228-43bf-44a5-8957-83f0a2e54bc8",
   "metadata": {},
   "outputs": [
    {
     "data": {
      "text/plain": [
       "49615"
      ]
     },
     "execution_count": 4,
     "metadata": {},
     "output_type": "execute_result"
    }
   ],
   "source": [
    "import sys\n",
    "\n",
    "# 手动设置最大递归栈深度，来进行更深的递归\n",
    "sys.setrecursionlimit(10**9)\n",
    "f(2000)"
   ]
  },
  {
   "cell_type": "markdown",
   "id": "a5042f84-d1a4-4e4e-aab4-32aa3f39c149",
   "metadata": {},
   "source": [
    "并且由于cache的使用，我们可以继续递归到更深。"
   ]
  },
  {
   "cell_type": "markdown",
   "id": "1fcbcab5-9df2-4b7e-bba0-1bd753fc47c0",
   "metadata": {},
   "source": [
    "直接运行`f(10000)`依然会触发RecursionError："
   ]
  },
  {
   "cell_type": "code",
   "execution_count": 5,
   "id": "b21703a1-d80f-4f2e-8246-982a39b7e348",
   "metadata": {},
   "outputs": [
    {
     "name": "stdout",
     "output_type": "stream",
     "text": [
      "RecursionError('maximum recursion depth exceeded')\n"
     ]
    }
   ],
   "source": [
    "try:\n",
    "    f(10000)\n",
    "except Exception as e:\n",
    "    print(repr(e))"
   ]
  },
  {
   "cell_type": "markdown",
   "id": "4b76a0e4-be6c-485d-ac95-700b17aaab76",
   "metadata": {},
   "source": [
    "但是我们可以一千一千计算过去，就不会触发了："
   ]
  },
  {
   "cell_type": "code",
   "execution_count": 6,
   "id": "9ea018db-b546-4848-b8f9-8a8b675a0c2c",
   "metadata": {},
   "outputs": [
    {
     "data": {
      "text/plain": [
       "(49640, 62552, 8463, 62667, 36907, 81995, 86926, 30763)"
      ]
     },
     "execution_count": 6,
     "metadata": {},
     "output_type": "execute_result"
    }
   ],
   "source": [
    "f(3000), f(4000), f(5000), f(6000), f(7000), f(8000), f(9000), f(10000)"
   ]
  },
  {
   "cell_type": "markdown",
   "id": "c6252e76-e03e-4cae-8dd7-32cea3a5ee05",
   "metadata": {},
   "source": [
    "### 递归递推\n",
    "\n",
    "思路和递归完全一样。使用哈希表代替了递归，可以避开递归栈过深的报错，从而求更大规模的问题："
   ]
  },
  {
   "cell_type": "code",
   "execution_count": 7,
   "id": "b28bf2f3-f57f-4f5d-aa5b-8713f6e4458a",
   "metadata": {},
   "outputs": [],
   "source": [
    "def f(n):\n",
    "    d = {0: 1, 1: 1, 2: 1, 3: 1}  # 字典存放--台阶数：方案数\n",
    "    if n < 4:\n",
    "        return 1\n",
    "    else:\n",
    "        for i in range(4, n + 1):  # 求得{3k+1}数列中不大于i的最大项为m\n",
    "            if i % 3 == 0:\n",
    "                m = i - 2\n",
    "            elif i % 3 == 1:\n",
    "                m = i\n",
    "            else:\n",
    "                m = i - 1\n",
    "            d[i] = (\n",
    "                sum([d[i - j] for j in range(1, m + 3, 3)]) % 100003\n",
    "            )  # 同样的递推关系，用字典来操作\n",
    "        return d[n]  # 返回字典中键n的值"
   ]
  },
  {
   "cell_type": "code",
   "execution_count": 8,
   "id": "73ec4c4e-6d7d-4277-ba51-88a803d7029a",
   "metadata": {},
   "outputs": [
    {
     "data": {
      "text/plain": [
       "66385"
      ]
     },
     "execution_count": 8,
     "metadata": {},
     "output_type": "execute_result"
    }
   ],
   "source": [
    "f(100)"
   ]
  },
  {
   "cell_type": "code",
   "execution_count": 9,
   "id": "5b256ecc-ae86-4aa5-9369-703df6f732bd",
   "metadata": {},
   "outputs": [
    {
     "name": "stdout",
     "output_type": "stream",
     "text": [
      "995 ms ± 6.91 ms per loop (mean ± std. dev. of 7 runs, 1 loop each)\n"
     ]
    }
   ],
   "source": [
    "%timeit f(10000)"
   ]
  },
  {
   "cell_type": "markdown",
   "id": "a49cbc35-f604-467d-9125-121ad4c158ce",
   "metadata": {},
   "source": [
    "### 组合数学"
   ]
  },
  {
   "cell_type": "markdown",
   "id": "389e020f-1d8a-4cc9-a5bf-fb712271e281",
   "metadata": {},
   "source": [
    "$$\n",
    "\\sum_{i=1}^m (3k_i+1) = n\n",
    "$$"
   ]
  },
  {
   "cell_type": "markdown",
   "id": "a103696b-0c8f-4338-af78-5f2de7d27cca",
   "metadata": {},
   "source": [
    "如同上式，我们假设`m`步走完了`n`级台阶，那么`m = n,n-3,n-6,...`，也就是说`n-m`一定是3的倍数："
   ]
  },
  {
   "cell_type": "markdown",
   "id": "b758acca-da03-4cea-9348-13e21901f8b1",
   "metadata": {},
   "source": [
    "$$\n",
    "\\sum_i k_i = (n-m)/3\n",
    "$$\n",
    "\n",
    "这是一个自然数（$k_i\\ge 0$）的不定方程，使用插板法立即可以得到解的个数：\n",
    "\n",
    "$$\n",
    "\\begin{pmatrix}\n",
    "m-1\\\\\n",
    "\\frac{n+2m}{3}-1\n",
    "\\end{pmatrix}\n",
    "$$\n",
    "\n",
    "所以\n",
    "\n",
    "$$\n",
    "f(n) = \\sum_m \\begin{pmatrix}\n",
    "m-1\\\\\n",
    "\\frac{n+2m}{3}-1\n",
    "\\end{pmatrix}\n",
    "$$\n",
    "\n",
    "<details class=\"question\">\n",
    "<summary>\n",
    "插板法\n",
    "</summary>\n",
    "    首先把问题转化为正整数的不定方程：\n",
    "    $$\n",
    "    \\sum_i(k_i +1) = \\frac{n+2m}{3}\n",
    "    $$\n",
    "    于是问题可以建模为$\\frac{n+2m}{3}$个苹果，分成$m$份（每一份至少有一个苹果）的问题。我们可以把苹果排成一列，然后用$m-1$个隔板就可以完成苹果的划分。例如两个隔板把六个苹果分成三份：`1|11|111`。注意我们只能在苹果之间选择位置插入隔板，所以只有$\\frac{n+2m}{3}-1$个位置可以选择。于是最终的答案是：\n",
    "    $$\n",
    "    \\begin{pmatrix}\n",
    "    m-1\\\\\n",
    "    \\frac{n+2m}{3}-1\n",
    "    \\end{pmatrix}\n",
    "    $$\n",
    "</details>"
   ]
  },
  {
   "cell_type": "code",
   "execution_count": 10,
   "id": "8ccba9cc-276d-45f8-ae7f-93644832ccbd",
   "metadata": {},
   "outputs": [],
   "source": [
    "from math import comb\n",
    "\n",
    "\n",
    "def f(n):\n",
    "    return sum(comb((n + 2 * m) // 3 - 1, m - 1) for m in range(n, 0, -3)) % 100003"
   ]
  },
  {
   "cell_type": "code",
   "execution_count": 11,
   "id": "e78048f5-bed9-47b7-8be5-3903839c59f0",
   "metadata": {},
   "outputs": [
    {
     "data": {
      "text/plain": [
       "19"
      ]
     },
     "execution_count": 11,
     "metadata": {},
     "output_type": "execute_result"
    }
   ],
   "source": [
    "f(10)"
   ]
  },
  {
   "cell_type": "code",
   "execution_count": 12,
   "id": "1b32070c-1ba6-44e6-a65a-6c6a64d2af99",
   "metadata": {},
   "outputs": [
    {
     "data": {
      "text/plain": [
       "66385"
      ]
     },
     "execution_count": 12,
     "metadata": {},
     "output_type": "execute_result"
    }
   ],
   "source": [
    "f(100)"
   ]
  },
  {
   "cell_type": "code",
   "execution_count": 13,
   "id": "7e403e56-9cc3-48c5-9389-33e7ec81c9de",
   "metadata": {},
   "outputs": [
    {
     "name": "stdout",
     "output_type": "stream",
     "text": [
      "984 ms ± 6.97 ms per loop (mean ± std. dev. of 7 runs, 1 loop each)\n"
     ]
    }
   ],
   "source": [
    "%timeit f(10000)"
   ]
  },
  {
   "cell_type": "markdown",
   "id": "e9ee1ea5-ce42-4d21-a2fb-3fdcc381c161",
   "metadata": {},
   "source": [
    "### 线性递推"
   ]
  },
  {
   "cell_type": "markdown",
   "id": "15a7897e-d0fc-4d2f-911f-a9a9f2461470",
   "metadata": {},
   "source": [
    "不难发现：\n",
    "$$\n",
    "\\begin{aligned}\n",
    "f(n)   &= f(n-1)+f(n-4)+f(n-7)...\\\\\n",
    "f(n-1) &= f(n-2)+f(n-5)+f(n-8)...\\\\\n",
    "f(n-2) &= f(n-3)+f(n-6)+f(n-9)...\\\\\n",
    "f(n-3) &= f(n-4)+f(n-7)+f(n-10)...\n",
    "\\end{aligned}\n",
    "$$\n",
    "\n",
    "所以\n",
    "$$\n",
    "f(n) = f(n-1)+f(n-3)\n",
    "$$\n",
    "\n",
    "这是一个线性递推数列，可以在常数空间复杂度和线性时间复杂度求解："
   ]
  },
  {
   "cell_type": "code",
   "execution_count": 14,
   "id": "e5f2ab99-b1d4-4f8a-a36c-99b88e45cffd",
   "metadata": {},
   "outputs": [],
   "source": [
    "def f(n):\n",
    "    a, b, c = 1, 1, 1\n",
    "    if n <= 3:\n",
    "        return 1\n",
    "    else:\n",
    "        for _ in range(n - 3):\n",
    "            a, b, c = b, c, (c + a) % 100003\n",
    "        return c"
   ]
  },
  {
   "cell_type": "code",
   "execution_count": 15,
   "id": "7145b78a-5f22-4866-832b-c3bd9ad2de8d",
   "metadata": {},
   "outputs": [
    {
     "data": {
      "text/plain": [
       "19"
      ]
     },
     "execution_count": 15,
     "metadata": {},
     "output_type": "execute_result"
    }
   ],
   "source": [
    "f(10)"
   ]
  },
  {
   "cell_type": "code",
   "execution_count": 16,
   "id": "4c5cc2c6-ee37-46f4-bcae-078c10c58da8",
   "metadata": {},
   "outputs": [
    {
     "data": {
      "text/plain": [
       "66385"
      ]
     },
     "execution_count": 16,
     "metadata": {},
     "output_type": "execute_result"
    }
   ],
   "source": [
    "f(100)"
   ]
  },
  {
   "cell_type": "code",
   "execution_count": 17,
   "id": "36ae12d3-d8e7-4a8a-8b07-90ea66426558",
   "metadata": {},
   "outputs": [
    {
     "name": "stdout",
     "output_type": "stream",
     "text": [
      "568 μs ± 8.9 μs per loop (mean ± std. dev. of 7 runs, 1,000 loops each)\n"
     ]
    }
   ],
   "source": [
    "%timeit f(10000)"
   ]
  },
  {
   "cell_type": "markdown",
   "id": "97a55143-defe-4b71-9bcb-5dd493c491b5",
   "metadata": {},
   "source": [
    "### 快速幂"
   ]
  },
  {
   "cell_type": "markdown",
   "id": "97498c24-42be-4c72-a301-30afbf5d9631",
   "metadata": {},
   "source": [
    "齐次的线性递推方程，可以用矩阵快速幂的方法在对数时间内求解："
   ]
  },
  {
   "cell_type": "markdown",
   "id": "0e9f2de7-dee0-4092-85aa-abef912501f7",
   "metadata": {},
   "source": [
    "$$\n",
    "\\begin{bmatrix}\n",
    "f(n)\\\\f(n-1)\\\\f(n-2)\n",
    "\\end{bmatrix}  = \\begin{bmatrix}\n",
    "1&0&1\\\\\n",
    "1&0&0\\\\\n",
    "0&1&0\n",
    "\\end{bmatrix}\\begin{bmatrix}\n",
    "f(n-1)\\\\f(n-2)\\\\f(n-3)\n",
    "\\end{bmatrix} = \\begin{bmatrix}\n",
    "1&0&1\\\\\n",
    "1&0&0\\\\\n",
    "0&1&0\n",
    "\\end{bmatrix}^{n-3}\\begin{bmatrix}\n",
    "f(3)\\\\f(2)\\\\f(1)\n",
    "\\end{bmatrix}\n",
    "$$"
   ]
  },
  {
   "cell_type": "code",
   "execution_count": 18,
   "id": "26c2baf4-eb98-479a-9eac-b2f18c6eab5b",
   "metadata": {},
   "outputs": [],
   "source": [
    "MOD = 100003\n",
    "def mul(a, b):\n",
    "    \"\"\"a,b都是nxn的矩阵\"\"\"\n",
    "    n = len(a)\n",
    "    return [\n",
    "        [sum(a[i][k] * b[k][j] for k in range(n)) % MOD for j in range(n)] for i in range(n)\n",
    "    ]\n",
    "def qpow(m, p):\n",
    "    n = len(m)\n",
    "    res = [[1 if i == j else 0 for j in range(n)] for i in range(n)]\n",
    "    while p:\n",
    "        if p&1:\n",
    "            res = mul(res, m)\n",
    "        p >>= 1\n",
    "        m = mul(m, m)\n",
    "    return res\n",
    "def f(n):\n",
    "    m = qpow([[1,0,1],[1,0,0],[0,1,0]], n-3)\n",
    "    return sum(m[0]) % MOD"
   ]
  },
  {
   "cell_type": "code",
   "execution_count": 19,
   "id": "cde67475-5000-4854-9955-a008bd5b8344",
   "metadata": {},
   "outputs": [
    {
     "data": {
      "text/plain": [
       "19"
      ]
     },
     "execution_count": 19,
     "metadata": {},
     "output_type": "execute_result"
    }
   ],
   "source": [
    "f(10)"
   ]
  },
  {
   "cell_type": "code",
   "execution_count": 20,
   "id": "1e9dbed2-f879-4c77-8e23-cb7ef83dee4a",
   "metadata": {},
   "outputs": [
    {
     "name": "stdout",
     "output_type": "stream",
     "text": [
      "114 μs ± 1.39 μs per loop (mean ± std. dev. of 7 runs, 10,000 loops each)\n"
     ]
    }
   ],
   "source": [
    "%timeit f(10000)"
   ]
  }
 ],
 "metadata": {
  "kernelspec": {
   "display_name": "Python 3 (ipykernel)",
   "language": "python",
   "name": "python3"
  },
  "language_info": {
   "codemirror_mode": {
    "name": "ipython",
    "version": 3
   },
   "file_extension": ".py",
   "mimetype": "text/x-python",
   "name": "python",
   "nbconvert_exporter": "python",
   "pygments_lexer": "ipython3",
   "version": "3.12.11"
  }
 },
 "nbformat": 4,
 "nbformat_minor": 5
}
